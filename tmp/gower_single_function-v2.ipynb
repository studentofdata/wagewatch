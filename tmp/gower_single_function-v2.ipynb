{
 "cells": [
  {
   "cell_type": "markdown",
   "metadata": {},
   "source": [
    "<h1>Gower distance calculation for Python V2</h1>\n",
    "\n",
    "<p>It is not all the time that the data under study is an even matrix of numerical values. Sometimes, you need to dig into data with mixed types of variables (e.g., categorical, boolean, numerical).\n",
    "</p>\n",
    "<p>This notebook provides a single function that calculates the Gower mixed similarity.\n",
    "</p>\n",
    "<p>For more details about the Gower distance, please visit: <a href=\"http://members.cbio.mines-paristech.fr/~jvert/svn/bibli/local/Gower1971general.pdf\">Gower, J.C., 1971, A General Coefficient of Similarity and Some of Its Properties</a>.</p>\n"
   ]
  },
  {
   "cell_type": "markdown",
   "metadata": {},
   "source": [
    "<h2>1. Generate some data with mixed types</h2>"
   ]
  },
  {
   "cell_type": "code",
   "execution_count": 2,
   "metadata": {
    "collapsed": false,
    "scrolled": true
   },
   "outputs": [
    {
     "name": "stdout",
     "output_type": "stream",
     "text": [
      "    age  available_credit civil_status gender has_children   salary\n",
      "0  21.0            2200.0      MARRIED      M         True   3000.0\n",
      "1  21.0             100.0       SINGLE      M        False   1200.0\n",
      "2  19.0           22000.0       SINGLE      N         True  32000.0\n",
      "3  30.0            1100.0       SINGLE      M         True   1800.0\n",
      "4  21.0            2000.0      MARRIED      F         True   2900.0\n",
      "5  21.0             100.0       SINGLE      F        False   1100.0\n",
      "6  19.0            6000.0        WIDOW      F        False  10000.0\n",
      "7  30.0            2200.0     DIVORCED      F         True   1500.0\n",
      "8   NaN               NaN         None   None         None      NaN\n"
     ]
    }
   ],
   "source": [
    "import numpy as np\n",
    "import pandas as pd\n",
    "from scipy.spatial import distance \n",
    "from sklearn.metrics import pairwise\n",
    "\n",
    "X=pd.DataFrame({'age':[21,21,19,30,21,21,19,30,None],\n",
    "'gender':['M','M','N','M','F','F','F','F',None],\n",
    "'civil_status':['MARRIED','SINGLE','SINGLE','SINGLE','MARRIED','SINGLE','WIDOW','DIVORCED',None],\n",
    "'salary':[3000.0,1200.0 ,32000.0,1800.0 ,2900.0 ,1100.0 ,10000.0,1500.0,None],\n",
    "'has_children':[True,False,True,True,True,False,False,True,None],\n",
    "'available_credit':[2200,100,22000,1100,2000,100,6000,2200,None]})\n",
    "\n",
    "\n",
    "print(X)"
   ]
  },
  {
   "cell_type": "markdown",
   "metadata": {},
   "source": [
    "\n",
    "\n",
    "\n",
    "<h1>2. The Gower Function</h1>\n"
   ]
  },
  {
   "cell_type": "code",
   "execution_count": 3,
   "metadata": {
    "collapsed": false
   },
   "outputs": [],
   "source": [
    "def gower_distances(X, Y=None, w=None):\n",
    "    \"\"\"\n",
    "    Computes the gower distances between X and Y\n",
    "\n",
    "    Read more in the :ref:`User Guide <metrics>`.\n",
    "\n",
    "    Parameters\n",
    "    ----------\n",
    "    X : array-like, shape (n_samples, n_features)\n",
    "\n",
    "    Y : array-like, shape (n_samples, n_features)\n",
    "\n",
    "    Returns\n",
    "    -------\n",
    "    distances : ndarray, shape (n_samples, )\n",
    "\n",
    "    Notes\n",
    "    ------\n",
    "    Gower is a similarity for categorical, boolean and numerical mixed data.\n",
    "    \"\"\"\n",
    "\n",
    "    data = pairwise.check_array(X, Y, dtype=np.object)\n",
    "    X, Y = data\n",
    "    rows, cols = X.shape\n",
    "    dtypes = []\n",
    "    for col in range(cols):\n",
    "        dtypes.append(type(X[0, col]))\n",
    "\n",
    "    # calculate the range and max values of numeric values for mixed data\n",
    "    ranges_of_numeric = [0.0] * cols\n",
    "    max_of_numeric = [0.0] * cols\n",
    "    for col in range(cols):\n",
    "        if np.issubdtype(dtypes[col], np.number):\n",
    "            max = np.nanmax(X[:, col].astype(dtypes[col])) + 0.0\n",
    "            if np.isnan(max):\n",
    "                max = 0.0\n",
    "\n",
    "            max_of_numeric[col] = max\n",
    "\n",
    "            min = np.nanmin(X[:, col].astype(dtypes[col])) + 0.0\n",
    "            if np.isnan(min):\n",
    "                min = 0.0\n",
    "\n",
    "            ranges_of_numeric[col] = (1 - min / max,0)[max == 0]\n",
    "\n",
    "\n",
    "    # According the Gower formula, w is an attribute weight\n",
    "    if w is None:\n",
    "        w = [1] * cols\n",
    "\n",
    "    yrows, ycols = Y.shape\n",
    "\n",
    "    dm = np.zeros((rows, yrows), dtype=np.double)\n",
    "\n",
    "\n",
    "    for i in range(0, rows ):\n",
    "        j_start = i\n",
    "        \n",
    "        #for non square results\n",
    "        if rows != yrows:\n",
    "            j_start = 0\n",
    "\n",
    "        for j in range(j_start, yrows):\n",
    "            xi = X[i]\n",
    "            xj = Y[j]\n",
    "            sum_sij = 0.0\n",
    "            sum_wij = 0.0\n",
    "            for col in range(cols):\n",
    "                value_xi = xi[col]\n",
    "                value_xj = xj[col]\n",
    "                if np.issubdtype(dtypes[col], np.number):\n",
    "                    if (max_of_numeric[col] != 0):\n",
    "                        value_xi = value_xi / max_of_numeric[col]\n",
    "                        value_xj = value_xj / max_of_numeric[col]\n",
    "                    else:\n",
    "                        value_xi = 0\n",
    "                        value_xj = 0\n",
    "\n",
    "                    if ranges_of_numeric[col] != 0 :\n",
    "                        sij = abs(value_xi - value_xj) / ranges_of_numeric[col]\n",
    "                    else:\n",
    "                        sij=0\n",
    "                    wij = (w[col], 0)[np.isnan(value_xi) or np.isnan(value_xj)]\n",
    "                else:\n",
    "                    sij = (1.0, 0.0)[value_xi == value_xj]\n",
    "                    wij = (w[col], 0)[value_xi is None and value_xj is None]\n",
    "                sum_sij += (wij * sij)\n",
    "                sum_wij += wij\n",
    "            \n",
    "            if sum_wij!=0:\n",
    "                dm[i,j] = (sum_sij / sum_wij)\n",
    "                if j < rows and i<yrows :\n",
    "                    dm[j,i] = dm[i,j]\n",
    "                \n",
    "            \n",
    "            \n",
    "    return dm\n",
    "\n"
   ]
  },
  {
   "cell_type": "markdown",
   "metadata": {},
   "source": [
    "<h1>5. Get the Gower distance matrix</h1>"
   ]
  },
  {
   "cell_type": "code",
   "execution_count": 4,
   "metadata": {
    "collapsed": false
   },
   "outputs": [
    {
     "ename": "ValueError",
     "evalue": "too many values to unpack",
     "output_type": "error",
     "traceback": [
      "\u001b[0;31m---------------------------------------------------------------------------\u001b[0m",
      "\u001b[0;31mValueError\u001b[0m                                Traceback (most recent call last)",
      "\u001b[0;32m<ipython-input-4-60bdd8f917f3>\u001b[0m in \u001b[0;36m<module>\u001b[0;34m()\u001b[0m\n\u001b[0;32m----> 1\u001b[0;31m \u001b[0mD\u001b[0m \u001b[0;34m=\u001b[0m \u001b[0mgower_distances\u001b[0m\u001b[0;34m(\u001b[0m\u001b[0mX\u001b[0m\u001b[0;34m)\u001b[0m\u001b[0;34m\u001b[0m\u001b[0m\n\u001b[0m\u001b[1;32m      2\u001b[0m \u001b[0;32mprint\u001b[0m\u001b[0;34m(\u001b[0m\u001b[0mD\u001b[0m\u001b[0;34m)\u001b[0m\u001b[0;34m\u001b[0m\u001b[0m\n",
      "\u001b[0;32m<ipython-input-3-316e397c724e>\u001b[0m in \u001b[0;36mgower_distances\u001b[0;34m(X, Y, w)\u001b[0m\n\u001b[1;32m     21\u001b[0m \u001b[0;34m\u001b[0m\u001b[0m\n\u001b[1;32m     22\u001b[0m     \u001b[0mdata\u001b[0m \u001b[0;34m=\u001b[0m \u001b[0mpairwise\u001b[0m\u001b[0;34m.\u001b[0m\u001b[0mcheck_array\u001b[0m\u001b[0;34m(\u001b[0m\u001b[0mX\u001b[0m\u001b[0;34m,\u001b[0m \u001b[0mY\u001b[0m\u001b[0;34m,\u001b[0m \u001b[0mdtype\u001b[0m\u001b[0;34m=\u001b[0m\u001b[0mnp\u001b[0m\u001b[0;34m.\u001b[0m\u001b[0mobject\u001b[0m\u001b[0;34m)\u001b[0m\u001b[0;34m\u001b[0m\u001b[0m\n\u001b[0;32m---> 23\u001b[0;31m     \u001b[0mX\u001b[0m\u001b[0;34m,\u001b[0m \u001b[0mY\u001b[0m \u001b[0;34m=\u001b[0m \u001b[0mdata\u001b[0m\u001b[0;34m\u001b[0m\u001b[0m\n\u001b[0m\u001b[1;32m     24\u001b[0m     \u001b[0mrows\u001b[0m\u001b[0;34m,\u001b[0m \u001b[0mcols\u001b[0m \u001b[0;34m=\u001b[0m \u001b[0mX\u001b[0m\u001b[0;34m.\u001b[0m\u001b[0mshape\u001b[0m\u001b[0;34m\u001b[0m\u001b[0m\n\u001b[1;32m     25\u001b[0m     \u001b[0mdtypes\u001b[0m \u001b[0;34m=\u001b[0m \u001b[0;34m[\u001b[0m\u001b[0;34m]\u001b[0m\u001b[0;34m\u001b[0m\u001b[0m\n",
      "\u001b[0;31mValueError\u001b[0m: too many values to unpack"
     ]
    }
   ],
   "source": [
    "D = gower_distances(X)\n",
    "print(D)\n"
   ]
  },
  {
   "cell_type": "markdown",
   "metadata": {},
   "source": [
    "<h1>6. The equivalent code in R</h1>\n",
    "Using the daisy method from {cluster} package\n",
    "\n",
    "<p>\n",
    "<code>\n",
    "library(cluster)\n",
    "\n",
    "age=c(21,21,19,30,21,21,19,30,NA)\n",
    "gender=c('M','M','N','M','F','F','F','F',NA)\n",
    "civil_status=c('MARRIED','SINGLE','SINGLE','SINGLE','MARRIED','SINGLE','WIDOW','DIVORCED',NA)\n",
    "salary=c(3000.0,1200.0 ,32000.0,1800.0 ,2900.0 ,1100.0 ,10000.0,1500.0,NA)\n",
    "children=c(TRUE,FALSE,TRUE,TRUE,TRUE,FALSE,FALSE,TRUE,NA)\n",
    "available_credit=c(2200,100,22000,1100,2000,100,6000,2200,NA)\n",
    "X=data.frame(age,gender,civil_status,salary,children,available_credit)\n",
    "\n",
    "D=daisy(X,metric=\"gower\")\n",
    "\n",
    "print(D)\n",
    "\n",
    "Dissimilarities :\n",
    "          1         2         3         4         5         6         7         8\n",
    "2 0.3590238                                                                      \n",
    "3 0.6707398 0.6964303                                                            \n",
    "4 0.3178742 0.3138769 0.6552807                                                  \n",
    "5 0.1687281 0.5236290 0.6728013 0.4824794                                        \n",
    "6 0.5262298 0.2006472 0.6969697 0.4810829 0.3575017                              \n",
    "7 0.5969786 0.5472028 0.7404280 0.7481861 0.4323733 0.3478501                    \n",
    "8 0.4777876 0.6539635 0.8151941 0.3433228 0.3121036 0.4878362 0.5747661          \n",
    "9        NA        NA        NA        NA        NA        NA        NA        NA\n",
    "\n",
    "</code>\n"
   ]
  },
  {
   "cell_type": "code",
   "execution_count": null,
   "metadata": {
    "collapsed": true
   },
   "outputs": [],
   "source": []
  }
 ],
 "metadata": {
  "kernelspec": {
   "display_name": "Python 2",
   "language": "python",
   "name": "python2"
  },
  "language_info": {
   "codemirror_mode": {
    "name": "ipython",
    "version": 2
   },
   "file_extension": ".py",
   "mimetype": "text/x-python",
   "name": "python",
   "nbconvert_exporter": "python",
   "pygments_lexer": "ipython2",
   "version": "2.7.11"
  }
 },
 "nbformat": 4,
 "nbformat_minor": 0
}
