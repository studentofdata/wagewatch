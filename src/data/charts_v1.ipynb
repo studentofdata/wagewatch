{
 "cells": [
  {
   "cell_type": "markdown",
   "metadata": {},
   "source": [
    "## Initial data setup\n",
    "\n",
    "Import some libraries and modules and pull in and clean the initial datasets generated from extract and transform modules. "
   ]
  },
  {
   "cell_type": "code",
   "execution_count": 6,
   "metadata": {},
   "outputs": [
    {
     "name": "stdout",
     "output_type": "stream",
     "text": [
      "create_Executive\n",
      "ANSWER_ann_revenue\n",
      "ANSWER_num_employees_pos\n",
      "ANSWER_ann_op_rev\n",
      "ANSWER_cur_base_pay\n",
      "ANSWER_num_rooms\n"
     ]
    }
   ],
   "source": [
    "import plotly.plotly as py\n",
    "import plotly.graph_objs as go\n",
    "import numpy as np\n",
    "import pandas as pd\n",
    "import random\n",
    "# Import modules\n",
    "import extract\n",
    "import transform\n",
    "import load\n",
    "\n",
    "#Grab the top markets to analyze. pulled ad hoc\n",
    "markets = pd.read_csv('top_75_markets.csv')\n",
    "\n",
    "#Pull the main data frame\n",
    "d_ci = extract.extract_all_lazy()['d_ci']\n",
    "\n",
    "# Register transform functions here, create them in the transform.py\n",
    "column_operations = {'ANSWER_num_rooms':transform.answer_num_rooms,\n",
    "                     'ANSWER_ann_op_rev':transform.answer_ann_op_rev,\n",
    "                     'ANSWER_ann_revenue':transform.answer_ann_revenue,\n",
    "                     'ANSWER_num_employees_pos':transform.answer_num_employees_pos,\n",
    "                     'create_Executive':transform.create_Executive,\n",
    "                     'ANSWER_cur_base_pay':transform.answer_cur_base_pay\n",
    "                     #'create_RevPAR':transform.create_RevPAR\n",
    "                    }\n",
    "\n",
    "#Create the Modeling dataset\n",
    "clean_data  = transform.clean_model(d_ci, column_operations)\n",
    "d_ci_v2 = clean_data['data']\n",
    "metadata = clean_data['metadata']"
   ]
  },
  {
   "cell_type": "code",
   "execution_count": 7,
   "metadata": {},
   "outputs": [],
   "source": [
    "#Grab the top markets to analyze. pulled ad hoc\n",
    "markets = pd.read_csv('top_75_markets.csv')\n",
    "markets = markets['0']"
   ]
  },
  {
   "cell_type": "markdown",
   "metadata": {},
   "source": [
    "## Analysis Setup\n",
    "\n",
    "Modeling will be performed here resulting in assigned clusters and more"
   ]
  },
  {
   "cell_type": "code",
   "execution_count": 8,
   "metadata": {},
   "outputs": [],
   "source": [
    "# Placefolder function to generate fake 'analysis' to mimic real datasets\n",
    "def random_clusters(dataframe):\n",
    "    dataframe['clusters'] = dataframe['ANSWER_ann_food_bev'].apply(lambda x: random.randrange(3))\n",
    "    return dataframe\n",
    "\n",
    "d_ci_v3 = random_clusters(d_ci_v2)\n",
    "\n",
    "print_frame = False\n",
    "\n",
    "# analysis data frame\n",
    "adata = load.kwik_analytics(d_ci_v3, print_frame, markets)"
   ]
  },
  {
   "cell_type": "code",
   "execution_count": 9,
   "metadata": {},
   "outputs": [],
   "source": [
    "adata.keys()\n",
    "jobs_data = adata['jobs']\n",
    "hotels_data = adata['hotels']"
   ]
  },
  {
   "cell_type": "code",
   "execution_count": 10,
   "metadata": {},
   "outputs": [],
   "source": [
    "num_jobs = jobs_data.groupby(['POSITION']).count().sort_values(by='CITYMARKET', ascending=False).reset_index()\n",
    "num_jobs_v1 = num_jobs[['POSITION','CITYMARKET']]\n",
    "top_jobs = num_jobs_v1['POSITION'].head(10).tolist()"
   ]
  },
  {
   "cell_type": "markdown",
   "metadata": {},
   "source": [
    "## Charting Setup\n",
    "\n",
    "Initially setup constants needed to filter datasets. Before each chart create text box which states dependencies. Use this to create a dashboard or work with dash. "
   ]
  },
  {
   "cell_type": "code",
   "execution_count": 11,
   "metadata": {},
   "outputs": [],
   "source": [
    "#Establish inputs that would be taken in to explore in the datasets\n",
    "CITYMARKET = 'San Diego'\n",
    "POSITION = 'Front Desk Agent' #top_jobs\n",
    "\n",
    "dimensions = {\n",
    "            'PROPERTY_CODE',\n",
    "              'PROPERTY_NAME',\n",
    "              'INDUSTRY_NAME',\n",
    "                   'ADDRESS1',\n",
    "                   'ADDRESS2',\n",
    "                       'CITY',\n",
    "                      'STATE',\n",
    "                        'ZIP',\n",
    "                 'CITYMARKET',\n",
    "               'BINGLATITUDE',\n",
    "              'BINGLONGITUDE',\n",
    "                 'SURVEYTYPE',\n",
    "                   'JOB_CODE',\n",
    "                   'POSITION' \n",
    "             }\n"
   ]
  },
  {
   "cell_type": "code",
   "execution_count": null,
   "metadata": {},
   "outputs": [],
   "source": [
    "# Line Chart of Percentiles\n",
    "\n",
    "viz_data = jobs_data[jobs_data['CITYMARKET'] == CITYMARKET]\n",
    "viz_data = viz_data[viz_data['POSITION'] == POSITION]\n",
    "\n",
    "x_axis_labels = ['min','25','50','75','max']\n",
    "y0 = viz_data[viz_data['clusters'] == 0][x_axis_labels].values[0]\n",
    "y1 = viz_data[viz_data['clusters'] == 1][x_axis_labels].values[0]\n",
    "y2 = viz_data[viz_data['clusters'] == 2][x_axis_labels].values[0]\n",
    "\n",
    "# Create a trace\n",
    "trace0 = go.Scatter(\n",
    "    x = x_axis_labels,\n",
    "    y = y0\n",
    ")\n",
    "\n",
    "trace1 = go.Scatter(\n",
    "    x = x_axis_labels,\n",
    "    y = y1\n",
    ")\n",
    "\n",
    "trace2 = go.Scatter(\n",
    "    x = x_axis_labels,\n",
    "    y = y2\n",
    ")\n",
    "\n",
    "data = [trace0, trace1, trace2]\n",
    "\n",
    "py.iplot(data, filename='basic-line')"
   ]
  },
  {
   "cell_type": "code",
   "execution_count": 19,
   "metadata": {},
   "outputs": [],
   "source": [
    "data = d_ci_v3[d_ci_v3['CITYMARKET'] == CITYMARKET]\n"
   ]
  },
  {
   "cell_type": "code",
   "execution_count": 21,
   "metadata": {},
   "outputs": [
    {
     "data": {
      "text/plain": [
       "Index([                   u'PROPERTY_CODE',\n",
       "                          u'PROPERTY_NAME',\n",
       "                    u'ANSWER_ann_food_bev',\n",
       "                      u'ANSWER_ann_op_rev',\n",
       "                     u'ANSWER_ann_revenue',\n",
       "               u'ANSWER_bonus_rooms_quota',\n",
       "                        u'ANSWER_bt_inc_e',\n",
       "                       u'ANSWER_bt_inc_ne',\n",
       "                   u'ANSWER_eff_wage_date',\n",
       "                  u'ANSWER_flex_hire_wage',\n",
       "       u'ANSWER_housekeeper_turnover_rate',\n",
       "                     u'ANSWER_hr_set_wage',\n",
       "                u'ANSWER_night_shift_prem',\n",
       "                       u'ANSWER_num_rooms',\n",
       "               u'ANSWER_paid_rollaway_bed',\n",
       "                  u'ANSWER_perc_full_time',\n",
       "                   u'ANSWER_perc_op_labor',\n",
       "               u'ANSWER_rooms_quota_shift',\n",
       "                   u'ANSWER_sq_ft_meeting',\n",
       "                  u'ANSWER_turnover_rater',\n",
       "                          u'INDUSTRY_NAME',\n",
       "                               u'ADDRESS1',\n",
       "                               u'ADDRESS2',\n",
       "                                   u'CITY',\n",
       "                                  u'STATE',\n",
       "                                    u'ZIP',\n",
       "                             u'CITYMARKET',\n",
       "                           u'BINGLATITUDE',\n",
       "                          u'BINGLONGITUDE',\n",
       "                             u'SURVEYTYPE',\n",
       "                               u'JOB_CODE',\n",
       "                               u'POSITION',\n",
       "                    u'ANSWER_cur_base_pay',\n",
       "                         u'ANSWER_e_or_ne',\n",
       "                   u'ANSWER_high_base_pay',\n",
       "                  u'ANSWER_inc_bonus_comm',\n",
       "                    u'ANSWER_low_base_pay',\n",
       "               u'ANSWER_num_employees_pos',\n",
       "               u'ANSWER_pay_increase_type',\n",
       "                         u'ANSWER_pay_max',\n",
       "                         u'ANSWER_pay_min',\n",
       "                       u'ANSWER_start_pay',\n",
       "                      u'ANSWER_target_inc',\n",
       "                           u'ANSWER_union',\n",
       "                      u'CREATED_executive',\n",
       "                u'CREATED_base_pay_digits',\n",
       "               u'CREATED_cur_base_pay_hrs',\n",
       "                               u'clusters'],\n",
       "      dtype='object')"
      ]
     },
     "execution_count": 21,
     "metadata": {},
     "output_type": "execute_result"
    }
   ],
   "source": []
  },
  {
   "cell_type": "code",
   "execution_count": 36,
   "metadata": {},
   "outputs": [
    {
     "name": "stderr",
     "output_type": "stream",
     "text": [
      "/Users/Lucy/anaconda/lib/python2.7/site-packages/ipykernel/__main__.py:3: SettingWithCopyWarning:\n",
      "\n",
      "\n",
      "A value is trying to be set on a copy of a slice from a DataFrame.\n",
      "Try using .loc[row_indexer,col_indexer] = value instead\n",
      "\n",
      "See the caveats in the documentation: http://pandas.pydata.org/pandas-docs/stable/indexing.html#indexing-view-versus-copy\n",
      "\n",
      "/Users/Lucy/anaconda/lib/python2.7/site-packages/ipykernel/__main__.py:4: SettingWithCopyWarning:\n",
      "\n",
      "\n",
      "A value is trying to be set on a copy of a slice from a DataFrame.\n",
      "Try using .loc[row_indexer,col_indexer] = value instead\n",
      "\n",
      "See the caveats in the documentation: http://pandas.pydata.org/pandas-docs/stable/indexing.html#indexing-view-versus-copy\n",
      "\n"
     ]
    },
    {
     "data": {
      "text/html": [
       "<iframe id=\"igraph\" scrolling=\"no\" style=\"border:none;\" seamless=\"seamless\" src=\"https://plot.ly/~luci1408/4.embed\" height=\"525px\" width=\"100%\"></iframe>"
      ],
      "text/plain": [
       "<plotly.tools.PlotlyDisplay object>"
      ]
     },
     "execution_count": 36,
     "metadata": {},
     "output_type": "execute_result"
    }
   ],
   "source": [
    "scl = [ [0,\"rgb(5, 10, 172)\"],[0.35,\"rgb(40, 60, 190)\"],[0.5,\"rgb(70, 100, 245)\"],\\\n",
    "    [0.6,\"rgb(90, 120, 245)\"],[0.7,\"rgb(106, 137, 247)\"],[1,\"rgb(220, 220, 220)\"] ]\n",
    "\n",
    "data['ANSWER_num_employees_pos'] = data['ANSWER_num_employees_pos'].astype(int)\n",
    "data['marker_size'] = (data['ANSWER_num_employees_pos']-data['ANSWER_num_employees_pos'].min())/(data['ANSWER_num_employees_pos'].max()-data['ANSWER_num_employees_pos'].min())\n",
    "\n",
    "chart_data = [ dict(\n",
    "        type = 'scattergeo',\n",
    "        locationmode = 'USA-California',\n",
    "        lat = data['BINGLATITUDE'],\n",
    "        lon = data['BINGLONGITUDE'],\n",
    "        #text = df['text'],\n",
    "        mode = 'markers',\n",
    "        marker = dict(\n",
    "            size = data['marker_size']*25,\n",
    "            opacity = 0.8,\n",
    "            reversescale = True,\n",
    "            autocolorscale = False,\n",
    "            symbol = 'circle',\n",
    "            line = dict(\n",
    "                width=1,\n",
    "                color='rgba(102, 102, 102)'\n",
    "            ),\n",
    "            colorscale = scl,\n",
    "            cmin = 0,\n",
    "            color = data['ANSWER_num_employees_pos'],\n",
    "            cmax = data['ANSWER_num_employees_pos'].max(),\n",
    "            colorbar=dict(\n",
    "                title=\"Test\"\n",
    "            )\n",
    "        ))]\n",
    "\n",
    "layout = dict(\n",
    "        title = 'Testing',\n",
    "        colorbar = True,\n",
    "        geo = dict(\n",
    "            scope='usa',\n",
    "            projection=dict( type='albers usa' ),\n",
    "            showland = True,\n",
    "            landcolor = \"rgb(250, 250, 250)\",\n",
    "            subunitcolor = \"rgb(217, 217, 217)\",\n",
    "            countrycolor = \"rgb(217, 217, 217)\",\n",
    "            countrywidth = 0.5,\n",
    "            subunitwidth = 0.5\n",
    "        ),\n",
    "    )\n",
    "\n",
    "fig = dict( data=chart_data, layout=layout )\n",
    "py.iplot( fig, validate=False, filename='d3-airports' )"
   ]
  },
  {
   "cell_type": "code",
   "execution_count": 32,
   "metadata": {},
   "outputs": [
    {
     "data": {
      "text/plain": [
       "776      0.007634\n",
       "777      0.129771\n",
       "778      0.000000\n",
       "779      0.000000\n",
       "780      0.000000\n",
       "781      0.000000\n",
       "782      0.000000\n",
       "783      0.091603\n",
       "784      0.015267\n",
       "785      0.022901\n",
       "786      0.053435\n",
       "787      0.076336\n",
       "788      0.007634\n",
       "789      0.000000\n",
       "790      0.335878\n",
       "791      0.778626\n",
       "792      0.061069\n",
       "793      0.000000\n",
       "794      0.000000\n",
       "795      0.000000\n",
       "796      0.015267\n",
       "797      0.091603\n",
       "798      0.183206\n",
       "799      0.022901\n",
       "800      0.007634\n",
       "801      0.076336\n",
       "802      0.068702\n",
       "803      0.007634\n",
       "804      0.000000\n",
       "805      0.847328\n",
       "           ...   \n",
       "65946    0.061069\n",
       "65947    0.000000\n",
       "65948    0.000000\n",
       "65949    0.000000\n",
       "65950    0.000000\n",
       "65951    0.030534\n",
       "65952    0.000000\n",
       "65953    0.000000\n",
       "68444    0.000000\n",
       "68445    0.000000\n",
       "68446    0.007634\n",
       "68447    0.030534\n",
       "68448    0.000000\n",
       "68449    0.022901\n",
       "68450    0.000000\n",
       "68451    0.099237\n",
       "68452    0.022901\n",
       "68453    0.038168\n",
       "68454    0.030534\n",
       "68455    0.038168\n",
       "68456    0.000000\n",
       "68457    0.007634\n",
       "68458    0.000000\n",
       "68459    0.007634\n",
       "68460    0.038168\n",
       "68461    0.000000\n",
       "68462    0.000000\n",
       "68463    0.022901\n",
       "68464    0.000000\n",
       "68465    0.007634\n",
       "Name: marker_size, dtype: float64"
      ]
     },
     "execution_count": 32,
     "metadata": {},
     "output_type": "execute_result"
    }
   ],
   "source": [
    "data['marker_size']"
   ]
  },
  {
   "cell_type": "code",
   "execution_count": null,
   "metadata": {},
   "outputs": [],
   "source": [
    "# Market Geo Chart\n",
    "# Lat and Longs of hotels bubble chart of size of employees in the position\n",
    "\n",
    "\n",
    "\n",
    "\n",
    "# Market Clustering Chart\n",
    "# 3 dimensional plot of num_employees/revpar/meeting_space\n",
    "\n",
    "\n",
    "\n",
    "\n",
    "# Bar charts"
   ]
  }
 ],
 "metadata": {
  "kernelspec": {
   "display_name": "Python 2",
   "language": "python",
   "name": "python2"
  },
  "language_info": {
   "codemirror_mode": {
    "name": "ipython",
    "version": 2
   },
   "file_extension": ".py",
   "mimetype": "text/x-python",
   "name": "python",
   "nbconvert_exporter": "python",
   "pygments_lexer": "ipython2",
   "version": "2.7.11"
  }
 },
 "nbformat": 4,
 "nbformat_minor": 2
}
