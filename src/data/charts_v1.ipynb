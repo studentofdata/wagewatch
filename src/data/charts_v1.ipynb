{
 "cells": [
  {
   "cell_type": "markdown",
   "metadata": {},
   "source": [
    "## Initial data setup\n",
    "\n",
    "Import some libraries and modules and pull in and clean the initial datasets generated from extract and transform modules. "
   ]
  },
  {
   "cell_type": "code",
   "execution_count": 11,
   "metadata": {},
   "outputs": [
    {
     "name": "stdout",
     "output_type": "stream",
     "text": [
      "create_Executive\n",
      "ANSWER_ann_revenue\n",
      "ANSWER_num_employees_pos\n",
      "ANSWER_ann_op_rev\n",
      "ANSWER_cur_base_pay\n",
      "ANSWER_num_rooms\n"
     ]
    }
   ],
   "source": [
    "import plotly.plotly as py\n",
    "import plotly.graph_objs as go\n",
    "import numpy as np\n",
    "import pandas as pd\n",
    "# Import modules\n",
    "import extract\n",
    "import transform\n",
    "import load\n",
    "\n",
    "#Grab the top markets to analyze. pulled ad hoc\n",
    "markets = pd.read_csv('top_75_markets.csv')\n",
    "\n",
    "#Pull the main data frame\n",
    "d_ci = extract.extract_all_lazy()['d_ci']\n",
    "\n",
    "# Register transform functions here, create them in the transform.py\n",
    "column_operations = {'ANSWER_num_rooms':transform.answer_num_rooms,\n",
    "                     'ANSWER_ann_op_rev':transform.answer_ann_op_rev,\n",
    "                     'ANSWER_ann_revenue':transform.answer_ann_revenue,\n",
    "                     'ANSWER_num_employees_pos':transform.answer_num_employees_pos,\n",
    "                     'create_Executive':transform.create_Executive,\n",
    "                     'ANSWER_cur_base_pay':transform.answer_cur_base_pay\n",
    "                     #'create_RevPAR':transform.create_RevPAR\n",
    "                    }\n",
    "\n",
    "#Create the Modeling dataset\n",
    "clean_data  = transform.clean_model(d_ci, column_operations)\n",
    "d_ci_v2 = clean_data['data']\n",
    "metadata = clean_data['metadata']"
   ]
  },
  {
   "cell_type": "code",
   "execution_count": 23,
   "metadata": {},
   "outputs": [
    {
     "data": {
      "text/plain": [
       "0                    San Diego\n",
       "1                  Washington \n",
       "2                      Orlando\n",
       "3                      Chicago\n",
       "4                       Austin\n",
       "5              Dallas-Ft.Worth\n",
       "6                  San Antonio\n",
       "7                  Los Angeles\n",
       "8                        Miami\n",
       "9                      Atlanta\n",
       "10                   Baltimore\n",
       "11                 New Orleans\n",
       "12                   Milwaukee\n",
       "13                    Honolulu\n",
       "14              Salt Lake City\n",
       "15                     Phoenix\n",
       "16               San Francisco\n",
       "17                     Seattle\n",
       "18                   Las Vegas\n",
       "19               Orange County\n",
       "20                     Toronto\n",
       "21                      Boston\n",
       "22                     Houston\n",
       "23                Jacksonville\n",
       "24               New York City\n",
       "25                  Sacramento\n",
       "26                      Denver\n",
       "27                    San Jose\n",
       "28                Palm Springs\n",
       "29                    Hartford\n",
       "                ...           \n",
       "45                 Hilton Head\n",
       "46          Naples - Ft. Myers\n",
       "47                  Cincinnati\n",
       "48                        Reno\n",
       "49                     Oakland\n",
       "50               Oklahoma City\n",
       "51                    Montreal\n",
       "52                    Columbus\n",
       "53                     Augusta\n",
       "54                   Charlotte\n",
       "55                    San Juan\n",
       "56                   Cleveland\n",
       "57              Ft. Lauderdale\n",
       "58                      Albany\n",
       "59                       Omaha\n",
       "60                  Des Moines\n",
       "61                 Long Island\n",
       "62                     Calgary\n",
       "63            Colorado Springs\n",
       "64    Norfolk - Virginia Beach\n",
       "65                Myrtle Beach\n",
       "66                    Sarasota\n",
       "67                     Buffalo\n",
       "68       Monterey-Pebble Beach\n",
       "69                  Charleston\n",
       "70                Indianapolis\n",
       "71                  Pittsburgh\n",
       "72             West Palm Beach\n",
       "73                   New Haven\n",
       "74                       Tulsa\n",
       "Name: 0, dtype: object"
      ]
     },
     "execution_count": 23,
     "metadata": {},
     "output_type": "execute_result"
    }
   ],
   "source": [
    "#Grab the top markets to analyze. pulled ad hoc\n",
    "markets = pd.read_csv('top_75_markets.csv')\n",
    "markets = markets['0']"
   ]
  },
  {
   "cell_type": "markdown",
   "metadata": {},
   "source": [
    "## Analysis Setup\n",
    "\n",
    "Modeling will be performed here resulting in assigned clusters and more"
   ]
  },
  {
   "cell_type": "code",
   "execution_count": 27,
   "metadata": {},
   "outputs": [],
   "source": [
    "# Placefolder function to generate fake 'analysis' to mimic real datasets\n",
    "def random_clusters(dataframe):\n",
    "    dataframe['clusters'] = dataframe['ANSWER_ann_food_bev'].apply(lambda x: random.randrange(3))\n",
    "    return dataframe\n",
    "\n",
    "d_ci_v3 = random_clusters(d_ci_v2)\n",
    "\n",
    "print_frame = False\n",
    "\n",
    "# analysis data frame\n",
    "adata = load.kwik_analytics(d_ci_v3, print_frame, markets)"
   ]
  },
  {
   "cell_type": "code",
   "execution_count": 30,
   "metadata": {},
   "outputs": [],
   "source": [
    "adata.keys()\n",
    "jobs_data = adata['jobs']\n",
    "hotels_data = adata['hotels']"
   ]
  },
  {
   "cell_type": "code",
   "execution_count": 41,
   "metadata": {},
   "outputs": [],
   "source": [
    "num_jobs = jobs_data.groupby(['POSITION']).count().sort_values(by='CITYMARKET', ascending=False).reset_index()\n",
    "num_jobs_v1 = num_jobs[['POSITION','CITYMARKET']]\n",
    "top_jobs = num_jobs_v1['POSITION'].head(10).tolist()"
   ]
  },
  {
   "cell_type": "markdown",
   "metadata": {},
   "source": [
    "## Charting Setup\n",
    "\n",
    "Initially setup constants needed to filter datasets. Before each chart create text box which states dependencies. Use this to create a dashboard or work with dash. "
   ]
  },
  {
   "cell_type": "code",
   "execution_count": 87,
   "metadata": {},
   "outputs": [],
   "source": [
    "#Establish inputs that would be taken in to explore in the datasets\n",
    "CITYMARKET = 'San Diego'\n",
    "POSITION = 'Front Desk Agent' #top_jobs\n",
    "\n",
    "dimensions = {\n",
    "            'PROPERTY_CODE',\n",
    "              'PROPERTY_NAME',\n",
    "              'INDUSTRY_NAME',\n",
    "                   'ADDRESS1',\n",
    "                   'ADDRESS2',\n",
    "                       'CITY',\n",
    "                      'STATE',\n",
    "                        'ZIP',\n",
    "                 'CITYMARKET',\n",
    "               'BINGLATITUDE',\n",
    "              'BINGLONGITUDE',\n",
    "                 'SURVEYTYPE',\n",
    "                   'JOB_CODE',\n",
    "                   'POSITION' \n",
    "             }\n",
    "\n",
    "\n",
    "\n",
    "\n",
    "\n"
   ]
  },
  {
   "cell_type": "code",
   "execution_count": 88,
   "metadata": {},
   "outputs": [
    {
     "data": {
      "text/html": [
       "<iframe id=\"igraph\" scrolling=\"no\" style=\"border:none;\" seamless=\"seamless\" src=\"https://plot.ly/~luci1408/10.embed\" height=\"525px\" width=\"100%\"></iframe>"
      ],
      "text/plain": [
       "<plotly.tools.PlotlyDisplay object>"
      ]
     },
     "execution_count": 88,
     "metadata": {},
     "output_type": "execute_result"
    }
   ],
   "source": [
    "# Line Chart of Percentiles\n",
    "\n",
    "viz_data = jobs_data[jobs_data['CITYMARKET'] == CITYMARKET]\n",
    "viz_data = viz_data[viz_data['POSITION'] == POSITION]\n",
    "\n",
    "x_axis_labels = ['min','25','50','75','max']\n",
    "y0 = viz_data[viz_data['clusters'] == 0][x_axis_labels].values[0]\n",
    "y1 = viz_data[viz_data['clusters'] == 1][x_axis_labels].values[0]\n",
    "y2 = viz_data[viz_data['clusters'] == 2][x_axis_labels].values[0]\n",
    "\n",
    "# Create a trace\n",
    "trace0 = go.Scatter(\n",
    "    x = x_axis_labels,\n",
    "    y = y0\n",
    ")\n",
    "\n",
    "trace1 = go.Scatter(\n",
    "    x = x_axis_labels,\n",
    "    y = y1\n",
    ")\n",
    "\n",
    "trace2 = go.Scatter(\n",
    "    x = x_axis_labels,\n",
    "    y = y2\n",
    ")\n",
    "\n",
    "data = [trace0, trace1, trace2]\n",
    "\n",
    "py.iplot(data, filename='basic-line')"
   ]
  },
  {
   "cell_type": "code",
   "execution_count": 93,
   "metadata": {},
   "outputs": [
    {
     "data": {
      "text/plain": [
       "Index([                   u'PROPERTY_CODE',\n",
       "                          u'PROPERTY_NAME',\n",
       "                    u'ANSWER_ann_food_bev',\n",
       "                      u'ANSWER_ann_op_rev',\n",
       "                     u'ANSWER_ann_revenue',\n",
       "               u'ANSWER_bonus_rooms_quota',\n",
       "                        u'ANSWER_bt_inc_e',\n",
       "                       u'ANSWER_bt_inc_ne',\n",
       "                   u'ANSWER_eff_wage_date',\n",
       "                  u'ANSWER_flex_hire_wage',\n",
       "       u'ANSWER_housekeeper_turnover_rate',\n",
       "                     u'ANSWER_hr_set_wage',\n",
       "                u'ANSWER_night_shift_prem',\n",
       "                       u'ANSWER_num_rooms',\n",
       "               u'ANSWER_paid_rollaway_bed',\n",
       "                  u'ANSWER_perc_full_time',\n",
       "                   u'ANSWER_perc_op_labor',\n",
       "               u'ANSWER_rooms_quota_shift',\n",
       "                   u'ANSWER_sq_ft_meeting',\n",
       "                  u'ANSWER_turnover_rater',\n",
       "                          u'INDUSTRY_NAME',\n",
       "                               u'ADDRESS1',\n",
       "                               u'ADDRESS2',\n",
       "                                   u'CITY',\n",
       "                                  u'STATE',\n",
       "                                    u'ZIP',\n",
       "                             u'CITYMARKET',\n",
       "                           u'BINGLATITUDE',\n",
       "                          u'BINGLONGITUDE',\n",
       "                             u'SURVEYTYPE',\n",
       "                               u'JOB_CODE',\n",
       "                               u'POSITION',\n",
       "                    u'ANSWER_cur_base_pay',\n",
       "                         u'ANSWER_e_or_ne',\n",
       "                   u'ANSWER_high_base_pay',\n",
       "                  u'ANSWER_inc_bonus_comm',\n",
       "                    u'ANSWER_low_base_pay',\n",
       "               u'ANSWER_num_employees_pos',\n",
       "               u'ANSWER_pay_increase_type',\n",
       "                         u'ANSWER_pay_max',\n",
       "                         u'ANSWER_pay_min',\n",
       "                       u'ANSWER_start_pay',\n",
       "                      u'ANSWER_target_inc',\n",
       "                           u'ANSWER_union',\n",
       "                      u'CREATED_executive',\n",
       "                u'CREATED_base_pay_digits',\n",
       "               u'CREATED_cur_base_pay_hrs',\n",
       "                               u'clusters'],\n",
       "      dtype='object')"
      ]
     },
     "execution_count": 93,
     "metadata": {},
     "output_type": "execute_result"
    }
   ],
   "source": [
    "# Market Geo Chart\n",
    "# Lat and Longs of hotels bubble chart of size of employees in the position\n",
    "\n",
    "\n",
    "\n",
    "\n",
    "\n",
    "# Market Clustering Chart\n",
    "# 3 dimensional plot of num_employees/revpar/meeting_space\n",
    "\n",
    "\n",
    "\n",
    "\n",
    "\n",
    "\n",
    "# Bar charts"
   ]
  }
 ],
 "metadata": {
  "kernelspec": {
   "display_name": "Python 2",
   "language": "python",
   "name": "python2"
  },
  "language_info": {
   "codemirror_mode": {
    "name": "ipython",
    "version": 2
   },
   "file_extension": ".py",
   "mimetype": "text/x-python",
   "name": "python",
   "nbconvert_exporter": "python",
   "pygments_lexer": "ipython2",
   "version": "2.7.11"
  }
 },
 "nbformat": 4,
 "nbformat_minor": 2
}
