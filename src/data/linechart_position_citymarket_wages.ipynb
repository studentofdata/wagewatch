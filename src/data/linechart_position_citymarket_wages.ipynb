{
 "cells": [
  {
   "cell_type": "code",
   "execution_count": null,
   "metadata": {},
   "outputs": [],
   "source": [
    "import plotly.plotly as py\n",
    "import plotly.graph_objs as go\n",
    "import numpy as np\n",
    "\n",
    "# Import modules\n",
    "import extract\n",
    "import transform\n",
    "\n",
    "#Pull the main data frame\n",
    "d_ci = extract.extract_all_lazy()['d_ci']\n",
    "\n",
    "# Register transform functions here, create them in the transform.py\n",
    "column_operations = {'ANSWER_num_rooms':transform.answer_num_rooms,\n",
    "                     'ANSWER_ann_op_rev':transform.answer_ann_op_rev,\n",
    "                     'ANSWER_ann_revenue':transform.answer_ann_revenue,\n",
    "                     'ANSWER_num_employees_pos':transform.answer_num_employees_pos,\n",
    "                     'create_Executive':transform.create_Executive,\n",
    "                     'ANSWER_cur_base_pay':transform.answer_cur_base_pay\n",
    "                     #'create_RevPAR':transform.create_RevPAR\n",
    "                    }\n",
    "\n",
    "#Create the Modeling dataset\n",
    "clean_data  = transform.clean_model(d_ci, column_operations)\n",
    "d_ci_v2 = clean_data['data']\n",
    "metadata = clean_data['metadata']"
   ]
  },
  {
   "cell_type": "code",
   "execution_count": 39,
   "metadata": {},
   "outputs": [],
   "source": [
    "import random\n",
    "\n",
    "d_ci_v2['dclusters'] = random.randrange(2)\n"
   ]
  },
  {
   "cell_type": "code",
   "execution_count": 40,
   "metadata": {},
   "outputs": [
    {
     "data": {
      "text/plain": [
       "373      0\n",
       "374      0\n",
       "375      0\n",
       "376      0\n",
       "377      0\n",
       "378      0\n",
       "379      0\n",
       "380      0\n",
       "381      0\n",
       "382      0\n",
       "383      0\n",
       "384      0\n",
       "385      0\n",
       "386      0\n",
       "387      0\n",
       "388      0\n",
       "389      0\n",
       "390      0\n",
       "391      0\n",
       "392      0\n",
       "393      0\n",
       "394      0\n",
       "395      0\n",
       "396      0\n",
       "397      0\n",
       "398      0\n",
       "491      0\n",
       "492      0\n",
       "493      0\n",
       "494      0\n",
       "        ..\n",
       "74743    0\n",
       "74744    0\n",
       "74745    0\n",
       "74746    0\n",
       "74747    0\n",
       "74748    0\n",
       "74749    0\n",
       "74750    0\n",
       "74751    0\n",
       "74752    0\n",
       "74753    0\n",
       "74754    0\n",
       "74755    0\n",
       "74756    0\n",
       "74757    0\n",
       "74758    0\n",
       "74759    0\n",
       "74760    0\n",
       "74761    0\n",
       "74762    0\n",
       "74763    0\n",
       "74764    0\n",
       "74765    0\n",
       "74766    0\n",
       "74767    0\n",
       "74768    0\n",
       "74769    0\n",
       "74770    0\n",
       "74771    0\n",
       "74772    0\n",
       "Name: dclusters, dtype: int64"
      ]
     },
     "execution_count": 40,
     "metadata": {},
     "output_type": "execute_result"
    }
   ],
   "source": [
    "d_ci_v2['dclusters']"
   ]
  },
  {
   "cell_type": "code",
   "execution_count": null,
   "metadata": {},
   "outputs": [],
   "source": [
    "data = d_ci['d_ci']\n",
    "\n",
    "dimensions = {'PROPERTY_CODE',\n",
    "              'PROPERTY_NAME',\n",
    "              'INDUSTRY_NAME',\n",
    "                   'ADDRESS1',\n",
    "                   'ADDRESS2',\n",
    "                       'CITY',\n",
    "                      'STATE',\n",
    "                        'ZIP',\n",
    "                 'CITYMARKET',\n",
    "               'BINGLATITUDE',\n",
    "              'BINGLONGITUDE',\n",
    "                 'SURVEYTYPE',\n",
    "                   'JOB_CODE',\n",
    "                   'POSITION' }"
   ]
  },
  {
   "cell_type": "code",
   "execution_count": null,
   "metadata": {},
   "outputs": [],
   "source": [
    "# Line Graph Examples\n",
    "N = 500\n",
    "random_x = ['.25','.5','.75','1']\n",
    "random_y0 = np.random.randn(N)\n",
    "random_y1 = np.random.randn(N)\n",
    "\n",
    "# Create a trace\n",
    "trace0 = go.Scatter(\n",
    "    x = random_x,\n",
    "    y = random_y0\n",
    ")\n",
    "\n",
    "trace1 = go.Scatter(\n",
    "    x = random_x,\n",
    "    y = random_y1\n",
    ")\n",
    "\n",
    "data = [trace0, trace1]\n",
    "\n",
    "py.iplot(data, filename='basic-line')"
   ]
  },
  {
   "cell_type": "code",
   "execution_count": null,
   "metadata": {},
   "outputs": [],
   "source": []
  }
 ],
 "metadata": {
  "kernelspec": {
   "display_name": "Python 2",
   "language": "python",
   "name": "python2"
  },
  "language_info": {
   "codemirror_mode": {
    "name": "ipython",
    "version": 2
   },
   "file_extension": ".py",
   "mimetype": "text/x-python",
   "name": "python",
   "nbconvert_exporter": "python",
   "pygments_lexer": "ipython2",
   "version": "2.7.11"
  }
 },
 "nbformat": 4,
 "nbformat_minor": 2
}
