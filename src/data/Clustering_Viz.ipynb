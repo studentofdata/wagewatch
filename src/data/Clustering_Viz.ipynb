{
 "cells": [
  {
   "cell_type": "code",
   "execution_count": null,
   "metadata": {},
   "outputs": [],
   "source": [
    "t_frame.head()\n",
    "h_frame = t_frame[['CITYMARKET','PROPERTY_NAME','ANSWER_ann_revenue','ANSWER_sq_ft_meeting','clusters'] + features]\n",
    "h_frame = h_frame.drop_duplicates()\n",
    "\n",
    "# Pull out the data for viz\n",
    "h_frame_v1 = h_frame[h_frame['CREATED_cur_base_pay_hrs'] > 50]\n",
    "sd_gt_50 = h_frame_v1[h_frame_v1['CITYMARKET'] == 'San Diego']\n",
    "# and t_frame['CITYMARKET']=='San Diego')\n",
    "mf = sd_gt_50\n",
    "\n",
    "scatter = dict(\n",
    "    mode = \"markers\",\n",
    "    name = \"y\",\n",
    "    type = \"scatter3d\",    \n",
    "    x = mf['ANSWER_num_rooms'], y = mf['ANSWER_ann_revenue'], z = mf['ANSWER_sq_ft_meeting'],\n",
    "    marker = dict( size=2, color=\"rgb(23, 190, 207)\" )\n",
    ")\n",
    "\n",
    "clusters = dict(\n",
    "    alphahull = 7,\n",
    "    name = \"y\",\n",
    "    opacity = 0.1,\n",
    "    type = \"mesh3d\",    \n",
    "    x = mf['ANSWER_num_rooms'], y = mf['ANSWER_ann_revenue'], z = mf['ANSWER_sq_ft_meeting']\n",
    ")\n",
    "\n",
    "layout = dict(\n",
    "    title = '3d point clustering',\n",
    "    scene = dict(\n",
    "        xaxis = dict( zeroline=False ),\n",
    "        yaxis = dict( zeroline=False ),\n",
    "        zaxis = dict( zeroline=False ),\n",
    "    )\n",
    ")\n",
    "\n",
    "fig = dict( data=[scatter, clusters], layout=layout )\n",
    "# Use py.iplot() for IPython notebook\n",
    "py.iplot(fig, filename='3d point clustering')"
   ]
  }
 ],
 "metadata": {
  "kernelspec": {
   "display_name": "Python 2",
   "language": "python",
   "name": "python2"
  },
  "language_info": {
   "codemirror_mode": {
    "name": "ipython",
    "version": 2
   },
   "file_extension": ".py",
   "mimetype": "text/x-python",
   "name": "python",
   "nbconvert_exporter": "python",
   "pygments_lexer": "ipython2",
   "version": "2.7.11"
  }
 },
 "nbformat": 4,
 "nbformat_minor": 2
}
