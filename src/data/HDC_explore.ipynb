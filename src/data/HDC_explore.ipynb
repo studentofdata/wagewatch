{
 "cells": [
  {
   "cell_type": "code",
   "execution_count": 6,
   "metadata": {},
   "outputs": [],
   "source": [
    "import os\n",
    "import re\n",
    "import sys\n",
    "import config\n",
    "import kmeans\n",
    "import constants\n",
    "\n",
    "import numpy as np\n",
    "import pandas as pd\n",
    "import plotly.plotly as py\n",
    "import extract\n",
    "import transform\n",
    "import load\n",
    "\n",
    "from sklearn import cluster\n",
    "from scipy.stats import zscore\n",
    "\n",
    "#Pull the main data frame\n",
    "d_ci = extract.extract_all_lazy()\n",
    "\n",
    "# Register transform functions here, create them in the transform.py\n",
    "column_operations = {'ANSWER_num_rooms':transform.answer_num_rooms,\n",
    "                     'SURVEYTYPE':transform.surveytype_categorical,\n",
    "                     #'ANSWER_ann_op_rev':transform.answer_ann_op_rev,\n",
    "                     #'ANSWER_ann_revenue':transform.answer_ann_revenue,\n",
    "                     'ANSWER_num_employees_pos':transform.answer_num_employees_pos,\n",
    "                     #This step is dependent on 'create_Executive' to handle weird cases. WW has a better solution?\n",
    "                     'ANSWER_cur_base_pay':transform.answer_cur_base_pay,\n",
    "                     'create_Executive':transform.create_Executive\n",
    "                     #'create_RevPAR':transform.create_RevPAR\n",
    "                    }"
   ]
  },
  {
   "cell_type": "code",
   "execution_count": 5,
   "metadata": {},
   "outputs": [
    {
     "ename": "NameError",
     "evalue": "name 'd_ci' is not defined",
     "output_type": "error",
     "traceback": [
      "\u001b[0;31m---------------------------------------------------------------------------\u001b[0m",
      "\u001b[0;31mNameError\u001b[0m                                 Traceback (most recent call last)",
      "\u001b[0;32m<ipython-input-5-084bca9cfd17>\u001b[0m in \u001b[0;36m<module>\u001b[0;34m()\u001b[0m\n\u001b[0;32m----> 1\u001b[0;31m \u001b[0mgi\u001b[0m \u001b[0;34m=\u001b[0m \u001b[0md_ci\u001b[0m\u001b[0;34m[\u001b[0m\u001b[0;34m'gi'\u001b[0m\u001b[0;34m]\u001b[0m\u001b[0;34m\u001b[0m\u001b[0m\n\u001b[0m\u001b[1;32m      2\u001b[0m \u001b[0mpi\u001b[0m \u001b[0;34m=\u001b[0m \u001b[0md_ci\u001b[0m\u001b[0;34m[\u001b[0m\u001b[0;34m'pi'\u001b[0m\u001b[0;34m]\u001b[0m\u001b[0;34m\u001b[0m\u001b[0m\n\u001b[1;32m      3\u001b[0m \u001b[0mci\u001b[0m \u001b[0;34m=\u001b[0m \u001b[0md_ci\u001b[0m\u001b[0;34m[\u001b[0m\u001b[0;34m'ci'\u001b[0m\u001b[0;34m]\u001b[0m\u001b[0;34m\u001b[0m\u001b[0m\n\u001b[1;32m      4\u001b[0m \u001b[0;31m#What Property Information (PI) do I need\u001b[0m\u001b[0;34m\u001b[0m\u001b[0;34m\u001b[0m\u001b[0m\n\u001b[1;32m      5\u001b[0m \u001b[0mpi_features\u001b[0m \u001b[0;34m=\u001b[0m \u001b[0;34m[\u001b[0m\u001b[0;34m'PROPERTY_CODE'\u001b[0m\u001b[0;34m,\u001b[0m\u001b[0;34m'STATE'\u001b[0m\u001b[0;34m,\u001b[0m\u001b[0;34m'ZIP'\u001b[0m\u001b[0;34m,\u001b[0m\u001b[0;34m'CITYMARKET'\u001b[0m\u001b[0;34m,\u001b[0m\u001b[0;34m'BINGLATITUDE'\u001b[0m\u001b[0;34m,\u001b[0m\u001b[0;34m'BINGLONGITUDE'\u001b[0m\u001b[0;34m,\u001b[0m\u001b[0;34m'SURVEYTYPE'\u001b[0m\u001b[0;34m]\u001b[0m\u001b[0;34m\u001b[0m\u001b[0m\n",
      "\u001b[0;31mNameError\u001b[0m: name 'd_ci' is not defined"
     ]
    }
   ],
   "source": [
    "gi = d_ci['gi']\n",
    "pi = d_ci['pi']\n",
    "ci = d_ci['ci']\n",
    "#What Property Information (PI) do I need\n",
    "pi_features = ['PROPERTY_CODE','STATE','ZIP','CITYMARKET','BINGLATITUDE','BINGLONGITUDE','SURVEYTYPE']\n",
    "#What General Information (GI) do I need\n",
    "gi_features = ['PROPERTY_CODE','ANSWER_num_rooms']\n",
    "\n",
    "#Bake in PI and GI to Compensation Info \n",
    "ci = pd.merge(ci, pi[pi_features], on = ['PROPERTY_CODE'])\n",
    "ci = pd.merge(ci, gi[gi_features], on = ['PROPERTY_CODE'])\n",
    "#Transformations are ran here, chosen within 'column_operations' and specified in 'transform.py'\n",
    "ci_payload = transform.clean_model(ci, column_operations)\n",
    "ci = ci_payload['data']"
   ]
  },
  {
   "cell_type": "code",
   "execution_count": 3,
   "metadata": {},
   "outputs": [
    {
     "data": {
      "text/plain": [
       "['SURVEYTYPE_PRIOR :: Rows: 74803, Columns: 23',\n",
       " 'SURVEYTYPE_POST :: Rows: 74803, Columns: 29',\n",
       " 'ANSWER_num_employees_pos_PRIOR :: Rows: 74803, Columns: 29',\n",
       " 'ANSWER_num_employees_pos_POST :: Rows: 74802, Columns: 29',\n",
       " 'create_Executive_PRIOR :: Rows: 74802, Columns: 29',\n",
       " 'create_Executive_POST :: Rows: 74802, Columns: 30',\n",
       " 'ANSWER_num_rooms_PRIOR :: Rows: 74802, Columns: 30',\n",
       " 'ANSWER_num_rooms_POST :: Rows: 62431, Columns: 30',\n",
       " 'ANSWER_cur_base_pay_PRIOR :: Rows: 62431, Columns: 30',\n",
       " 'ANSWER_cur_base_pay_POST :: Rows: 62431, Columns: 32']"
      ]
     },
     "execution_count": 3,
     "metadata": {},
     "output_type": "execute_result"
    }
   ],
   "source": [
    "metadata = ci_payload['metadata']\n",
    "metadata"
   ]
  },
  {
   "cell_type": "code",
   "execution_count": 4,
   "metadata": {},
   "outputs": [
    {
     "data": {
      "text/plain": [
       "Index([           u'PROPERTY_CODE',            u'PROPERTY_NAME',\n",
       "                       u'JOB_CODE',                 u'POSITION',\n",
       "            u'ANSWER_cur_base_pay',           u'ANSWER_e_or_ne',\n",
       "           u'ANSWER_high_base_pay',    u'ANSWER_inc_bonus_comm',\n",
       "            u'ANSWER_low_base_pay', u'ANSWER_num_employees_pos',\n",
       "       u'ANSWER_pay_increase_type',           u'ANSWER_pay_max',\n",
       "                 u'ANSWER_pay_min',         u'ANSWER_start_pay',\n",
       "              u'ANSWER_target_inc',             u'ANSWER_union',\n",
       "                          u'STATE',                      u'ZIP',\n",
       "                     u'CITYMARKET',             u'BINGLATITUDE',\n",
       "                  u'BINGLONGITUDE',               u'SURVEYTYPE',\n",
       "               u'ANSWER_num_rooms',            u'Gaming/Casino',\n",
       "              u'Golf/Country Club',      u'Hospitality - Other',\n",
       "         u'Lodging - Full Service', u'Lodging - Select Service',\n",
       "             u'Vacation Ownership',        u'CREATED_executive',\n",
       "        u'CREATED_base_pay_digits', u'CREATED_cur_base_pay_hrs'],\n",
       "      dtype='object')"
      ]
     },
     "execution_count": 4,
     "metadata": {},
     "output_type": "execute_result"
    }
   ],
   "source": [
    "ci.columns"
   ]
  },
  {
   "cell_type": "code",
   "execution_count": 5,
   "metadata": {},
   "outputs": [
    {
     "data": {
      "text/plain": [
       "Index([           u'PROPERTY_CODE',            u'PROPERTY_NAME',\n",
       "                       u'JOB_CODE',                 u'POSITION',\n",
       "            u'ANSWER_cur_base_pay',           u'ANSWER_e_or_ne',\n",
       "           u'ANSWER_high_base_pay',    u'ANSWER_inc_bonus_comm',\n",
       "            u'ANSWER_low_base_pay', u'ANSWER_num_employees_pos',\n",
       "       u'ANSWER_pay_increase_type',           u'ANSWER_pay_max',\n",
       "                 u'ANSWER_pay_min',         u'ANSWER_start_pay',\n",
       "              u'ANSWER_target_inc',             u'ANSWER_union',\n",
       "                          u'STATE',                      u'ZIP',\n",
       "                     u'CITYMARKET',             u'BINGLATITUDE',\n",
       "                  u'BINGLONGITUDE',               u'SURVEYTYPE',\n",
       "               u'ANSWER_num_rooms',            u'Gaming/Casino',\n",
       "              u'Golf/Country Club',      u'Hospitality - Other',\n",
       "         u'Lodging - Full Service', u'Lodging - Select Service',\n",
       "             u'Vacation Ownership',        u'CREATED_executive',\n",
       "        u'CREATED_base_pay_digits', u'CREATED_cur_base_pay_hrs'],\n",
       "      dtype='object')"
      ]
     },
     "execution_count": 5,
     "metadata": {},
     "output_type": "execute_result"
    }
   ],
   "source": [
    "#Functions to pass for calculations\n",
    "f = {'POSITION':['count'],\n",
    "    'CREATED_cur_base_pay_hrs':['mean']}\n",
    "\n",
    "#ci.groupby(['POSITION','ANSWER_e_or_ne']).agg(f)\n",
    "ci.columns"
   ]
  },
  {
   "cell_type": "code",
   "execution_count": null,
   "metadata": {},
   "outputs": [],
   "source": []
  },
  {
   "cell_type": "code",
   "execution_count": 1,
   "metadata": {},
   "outputs": [
    {
     "ename": "NameError",
     "evalue": "name 'ci' is not defined",
     "output_type": "error",
     "traceback": [
      "\u001b[0;31m---------------------------------------------------------------------------\u001b[0m",
      "\u001b[0;31mNameError\u001b[0m                                 Traceback (most recent call last)",
      "\u001b[0;32m<ipython-input-1-4805f8617cb7>\u001b[0m in \u001b[0;36m<module>\u001b[0;34m()\u001b[0m\n\u001b[1;32m     12\u001b[0m \u001b[0;31m#markets/cities go in 0 position\u001b[0m\u001b[0;34m\u001b[0m\u001b[0;34m\u001b[0m\u001b[0m\n\u001b[1;32m     13\u001b[0m \u001b[0mdimensions\u001b[0m \u001b[0;34m=\u001b[0m \u001b[0;34m[\u001b[0m\u001b[0;34m'CITYMARKET'\u001b[0m\u001b[0;34m,\u001b[0m\u001b[0;34m'POSITION'\u001b[0m\u001b[0;34m]\u001b[0m\u001b[0;34m\u001b[0m\u001b[0m\n\u001b[0;32m---> 14\u001b[0;31m \u001b[0mmodeling\u001b[0m \u001b[0;34m=\u001b[0m \u001b[0mci\u001b[0m\u001b[0;34m[\u001b[0m\u001b[0mfeatures_norm\u001b[0m \u001b[0;34m+\u001b[0m \u001b[0mdimensions\u001b[0m\u001b[0;34m]\u001b[0m\u001b[0;34m\u001b[0m\u001b[0m\n\u001b[0m",
      "\u001b[0;31mNameError\u001b[0m: name 'ci' is not defined"
     ]
    }
   ],
   "source": [
    "#Preprocessing step before modeling. Normalize numeric score via Z-score\n",
    "features = ['CREATED_cur_base_pay_hrs','ANSWER_num_rooms','ANSWER_num_employees_pos']\n",
    "features = features + ['Gaming/Casino', #Service Types\n",
    "                                      'Golf/Country Club',\n",
    "                                      'Lodging - Full Service',\n",
    "                                      'Lodging - Select Service',\n",
    "                                      'Vacation Ownership']\n",
    "\n",
    "features_norm = [f + \"_\" for f in features]\n",
    "#ci[features_norm] = ci[features].apply(lambda x: pd.to_numeric(x), axis=1).apply(zscore)\n",
    "\n",
    "#markets/cities go in 0 position\n",
    "dimensions = ['CITYMARKET','POSITION']\n",
    "modeling = ci[features_norm + dimensions]"
   ]
  },
  {
   "cell_type": "code",
   "execution_count": null,
   "metadata": {},
   "outputs": [],
   "source": [
    "modeling"
   ]
  },
  {
   "cell_type": "code",
   "execution_count": 4,
   "metadata": {},
   "outputs": [
    {
     "data": {
      "text/plain": [
       "['CREATED_cur_base_pay_hrs',\n",
       " 'ANSWER_num_rooms',\n",
       " 'ANSWER_num_employees_pos',\n",
       " 'Gaming/Casino',\n",
       " 'Golf/Country Club',\n",
       " 'Lodging - Full Service',\n",
       " 'Lodging - Select Service',\n",
       " 'Vacation Ownership']"
      ]
     },
     "execution_count": 4,
     "metadata": {},
     "output_type": "execute_result"
    }
   ],
   "source": []
  }
 ],
 "metadata": {
  "kernelspec": {
   "display_name": "Python 2",
   "language": "python",
   "name": "python2"
  },
  "language_info": {
   "codemirror_mode": {
    "name": "ipython",
    "version": 2
   },
   "file_extension": ".py",
   "mimetype": "text/x-python",
   "name": "python",
   "nbconvert_exporter": "python",
   "pygments_lexer": "ipython2",
   "version": "2.7.11"
  }
 },
 "nbformat": 4,
 "nbformat_minor": 2
}
